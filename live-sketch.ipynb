{
 "cells": [
  {
   "cell_type": "code",
   "execution_count": null,
   "metadata": {},
   "outputs": [],
   "source": [
    "#SKETCHING WITH A WEB CAMERA \n",
    "#if you don't have it download droidCam ,it turns your Android device into a wireless webcam\n",
    "#feel free to use the code \n",
    "\n",
    "import cv2\n",
    "import numpy as np\n",
    "\n",
    "def sketching(im):\n",
    "    gray_scalled = cv2.cvtColor(im, cv2.COLOR_BGR2GRAY)\n",
    "    blurred = cv2.GaussianBlur(gray_scalled, (5,5), 0)\n",
    "    edges = cv2.Canny(blurred, 30, 80)\n",
    "    ret, mask = cv2.threshold(edges, 100, 255, cv2.THRESH_BINARY_INV)\n",
    "    return mask\n",
    "capture = cv2.VideoCapture(0)\n",
    "while True:\n",
    "    ret, frame = capture.read()\n",
    "    cv2.imshow('Dessin', sketching(frame))\n",
    "    if cv2.waitKey(1) == 13: \n",
    "        break\n",
    "        \n",
    "cap.release()\n",
    "cv2.destroyAllWindows()      "
   ]
  }
 ],
 "metadata": {
  "kernelspec": {
   "display_name": "Python 2",
   "language": "python",
   "name": "python2"
  },
  "language_info": {
   "codemirror_mode": {
    "name": "ipython",
    "version": 2
   },
   "file_extension": ".py",
   "mimetype": "text/x-python",
   "name": "python",
   "nbconvert_exporter": "python",
   "pygments_lexer": "ipython2",
   "version": "2.7.15"
  }
 },
 "nbformat": 4,
 "nbformat_minor": 2
}
